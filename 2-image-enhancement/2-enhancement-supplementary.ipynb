{
 "cells": [
  {
   "cell_type": "markdown",
   "metadata": {},
   "source": [
    "# **Introduction to Image Processing**\n",
    "\n",
    "** Dear students this is your first assignment in Image processing course, in the context of this assignment you have to:**\n",
    "* **complete `2-enhancement.ipynb` up to section 2.7**\n",
    "* **complete this notebook `2-enhancement-supplementary.ipynb`**\n",
    "* **add your changes, commit and push your completed assignment to your github repo**\n",
    "\n",
    "`2-enhancement-supplememtary.ipynb` provides more information on section 2.7"
   ]
  },
  {
   "cell_type": "markdown",
   "metadata": {},
   "source": [
    "## 2.7 Your own implementation \n",
    "\n",
    "### Q.1 Import the required libraries and functions"
   ]
  },
  {
   "cell_type": "code",
   "execution_count": 34,
   "metadata": {},
   "outputs": [
    {
     "name": "stdout",
     "output_type": "stream",
     "text": [
      "Pretty printing has been turned OFF\n"
     ]
    }
   ],
   "source": [
    "% matplotlib inline\n",
    "% pprint off\n",
    "import matplotlib.pyplot as plt\n",
    "import numpy as np\n",
    "from skimage import exposure\n",
    "from skimage import io\n",
    "from skimage import img_as_float\n",
    "from matplotlib import cm\n",
    "# import the libraries you think its necessary for your task \n",
    "\n",
    "### import the libraries you think its necessary for your task "
   ]
  },
  {
   "cell_type": "markdown",
   "metadata": {},
   "source": [
    "### Q.2 Contrast streching "
   ]
  },
  {
   "cell_type": "markdown",
   "metadata": {},
   "source": [
    "** Define your function which stretch the image contrast, `cont_str`, using minimum and maximum values from the image **\n",
    "\n",
    "**This function should accept the input image, calculates the minimum and maximum and rescales the intensities.**\n",
    "\n",
    "** Return the image as uint8 **"
   ]
  },
  {
   "cell_type": "code",
   "execution_count": 50,
   "metadata": {},
   "outputs": [],
   "source": [
    "def cont_str (image_file):\n",
    "# This function stretches an image using the following formula (image-min_intensity)/max_intensity\n",
    "    rows = image_file.__len__()\n",
    "    \n",
    "    columns = image_file[0].__len__()\n",
    "    \n",
    "    mini = maxi = image_file[0][0]\n",
    "    \n",
    "    stretched = np.float(image_file)\n",
    "    \n",
    "    for i in range(rows):\n",
    "        temp_min = min(image_file[i])\n",
    "        temp_max = max(image_file[i])\n",
    "        if(temp_min < mini):\n",
    "            mini = temp_min\n",
    "        if(temp_max > maxi):\n",
    "            maxi = temp_max\n",
    "\n",
    "    for i in range (rows):\n",
    "        for j in range(columns):\n",
    "            stretched[i][j] =  round(( image_file[i][j] - mini) / maxi)\n",
    "        \n",
    "    return np.uint8(stretched)\n",
    "\n",
    "\n",
    "\n",
    "# image = io.imread('images/vibot-color.jpg', as_grey=True)\n",
    "# image = img_as_float(image)\n",
    "# stretched_img = cont_str(image)\n",
    "# io.imshow(stretched_img, cmap = cm.Greys_r)"
   ]
  },
  {
   "cell_type": "markdown",
   "metadata": {},
   "source": [
    "**Use your function to transform the  gray version of `satellite.jpg` image (ubyte format), show the original image and the transformed image and their histogram**"
   ]
  },
  {
   "cell_type": "code",
   "execution_count": 51,
   "metadata": {},
   "outputs": [
    {
     "ename": "TypeError",
     "evalue": "only length-1 arrays can be converted to Python scalars",
     "output_type": "error",
     "traceback": [
      "\u001b[1;31m---------------------------------------------------------------------------\u001b[0m",
      "\u001b[1;31mTypeError\u001b[0m                                 Traceback (most recent call last)",
      "\u001b[1;32m<ipython-input-51-5ae91f1c5922>\u001b[0m in \u001b[0;36m<module>\u001b[1;34m()\u001b[0m\n\u001b[0;32m      2\u001b[0m \u001b[0mf\u001b[0m\u001b[1;33m,\u001b[0m \u001b[0maxis\u001b[0m \u001b[1;33m=\u001b[0m \u001b[0mplt\u001b[0m\u001b[1;33m.\u001b[0m\u001b[0msubplots\u001b[0m\u001b[1;33m(\u001b[0m\u001b[1;36m2\u001b[0m\u001b[1;33m,\u001b[0m\u001b[1;36m2\u001b[0m\u001b[1;33m,\u001b[0m \u001b[0mfigsize\u001b[0m \u001b[1;33m=\u001b[0m \u001b[1;33m(\u001b[0m\u001b[1;36m10\u001b[0m\u001b[1;33m,\u001b[0m\u001b[1;36m10\u001b[0m\u001b[1;33m)\u001b[0m\u001b[1;33m)\u001b[0m\u001b[1;33m\u001b[0m\u001b[0m\n\u001b[0;32m      3\u001b[0m \u001b[1;33m\u001b[0m\u001b[0m\n\u001b[1;32m----> 4\u001b[1;33m \u001b[0msatellite_stretched\u001b[0m \u001b[1;33m=\u001b[0m \u001b[0mcont_str\u001b[0m\u001b[1;33m(\u001b[0m\u001b[0msatellite_grey\u001b[0m\u001b[1;33m)\u001b[0m\u001b[1;33m\u001b[0m\u001b[0m\n\u001b[0m\u001b[0;32m      5\u001b[0m \u001b[1;33m\u001b[0m\u001b[0m\n\u001b[0;32m      6\u001b[0m \u001b[0mlev\u001b[0m\u001b[1;33m,\u001b[0m \u001b[0mbin\u001b[0m \u001b[1;33m=\u001b[0m \u001b[0mexposure\u001b[0m\u001b[1;33m.\u001b[0m\u001b[0mhistogram\u001b[0m\u001b[1;33m(\u001b[0m\u001b[0msatellite_grey\u001b[0m\u001b[1;33m)\u001b[0m\u001b[1;33m\u001b[0m\u001b[0m\n",
      "\u001b[1;32m<ipython-input-50-a46e32e101de>\u001b[0m in \u001b[0;36mcont_str\u001b[1;34m(image_file)\u001b[0m\n\u001b[0;32m      7\u001b[0m     \u001b[0mmini\u001b[0m \u001b[1;33m=\u001b[0m \u001b[0mmaxi\u001b[0m \u001b[1;33m=\u001b[0m \u001b[0mimage_file\u001b[0m\u001b[1;33m[\u001b[0m\u001b[1;36m0\u001b[0m\u001b[1;33m]\u001b[0m\u001b[1;33m[\u001b[0m\u001b[1;36m0\u001b[0m\u001b[1;33m]\u001b[0m\u001b[1;33m\u001b[0m\u001b[0m\n\u001b[0;32m      8\u001b[0m \u001b[1;33m\u001b[0m\u001b[0m\n\u001b[1;32m----> 9\u001b[1;33m     \u001b[0mstretched\u001b[0m \u001b[1;33m=\u001b[0m \u001b[0mnp\u001b[0m\u001b[1;33m.\u001b[0m\u001b[0mfloat\u001b[0m\u001b[1;33m(\u001b[0m\u001b[0mimage_file\u001b[0m\u001b[1;33m)\u001b[0m\u001b[1;33m\u001b[0m\u001b[0m\n\u001b[0m\u001b[0;32m     10\u001b[0m \u001b[1;33m\u001b[0m\u001b[0m\n\u001b[0;32m     11\u001b[0m     \u001b[1;32mfor\u001b[0m \u001b[0mi\u001b[0m \u001b[1;32min\u001b[0m \u001b[0mrange\u001b[0m\u001b[1;33m(\u001b[0m\u001b[0mrows\u001b[0m\u001b[1;33m)\u001b[0m\u001b[1;33m:\u001b[0m\u001b[1;33m\u001b[0m\u001b[0m\n",
      "\u001b[1;31mTypeError\u001b[0m: only length-1 arrays can be converted to Python scalars"
     ]
    },
    {
     "data": {
      "image/png": "[encoded data removed]",
      "text/plain": [
       "<matplotlib.figure.Figure object at 0x000001BF2128AE10>"
      ]
     },
     "metadata": {},
     "output_type": "display_data"
    }
   ],
   "source": [
    "satellite_grey = io.imread('images/satellite.jpg', as_grey=True)\n",
    "f, axis = plt.subplots(2,2, figsize = (10,10))\n",
    "\n",
    "satellite_stretched = cont_str(satellite_grey)\n",
    "\n",
    "lev, bin = exposure.histogram(satellite_grey)\n",
    "lev_stretch, bin_stretch = exposure.histogram(satellite_stretched)\n",
    "\n",
    "\n",
    "axis[0][0].imshow(satellite_grey, cmap = cm.Greys_r)\n",
    "axis[0][1].plot(bin, lev)\n",
    "\n",
    "axis[1][0].imshow(satellite_stretched, cmap = cm.Greys_r)\n",
    "axis[1][1].plot(bin_stretch, lev_stretch)\n"
   ]
  },
  {
   "cell_type": "markdown",
   "metadata": {
    "collapsed": true
   },
   "source": [
    "### Q.3 Histogram equalization\n",
    "Histogram equalization can be used to enhance the contrast in images.\n",
    "\n",
    "The idea behind the histogram equalization process is that each gray level should have an equal contribution in the image. The function allowing such transformation is in fact the cumulative density function."
   ]
  },
  {
   "cell_type": "markdown",
   "metadata": {},
   "source": [
    "**Define your own histgram equalization function, `hist_eq`**\n",
    "\n",
    "**This function should accpet the image, max_int and min_int and return the transformed image and its cdf**"
   ]
  },
  {
   "cell_type": "code",
   "execution_count": null,
   "metadata": {
    "collapsed": true
   },
   "outputs": [],
   "source": []
  },
  {
   "cell_type": "markdown",
   "metadata": {},
   "source": [
    "** Use your function to transform the gray version of `satellite.jpg` image again in ubyte format**\n",
    "\n",
    "** max_int = 255, min_int = 0 **"
   ]
  },
  {
   "cell_type": "code",
   "execution_count": null,
   "metadata": {
    "collapsed": true
   },
   "outputs": [],
   "source": [
    "\n"
   ]
  },
  {
   "cell_type": "markdown",
   "metadata": {},
   "source": [
    "**Show the transformed image and its histogram**"
   ]
  },
  {
   "cell_type": "code",
   "execution_count": null,
   "metadata": {
    "collapsed": true
   },
   "outputs": [],
   "source": [
    "\n"
   ]
  },
  {
   "cell_type": "markdown",
   "metadata": {
    "collapsed": true
   },
   "source": [
    "### Q.4 Histogram matching"
   ]
  },
  {
   "cell_type": "markdown",
   "metadata": {},
   "source": [
    "** In this section we will perform histogram matching, the `hist_match` function is mostly defined here**\n",
    "** `hist_match` uses the function that should define the Q.3 `hist_eq`, check the comments in the code as well **\n",
    " \n",
    "** Explain the process of histogram matching in your own words**"
   ]
  },
  {
   "cell_type": "markdown",
   "metadata": {},
   "source": []
  },
  {
   "cell_type": "code",
   "execution_count": 22,
   "metadata": {
    "collapsed": true
   },
   "outputs": [],
   "source": [
    "def find_inverse_mapping(mapping):\n",
    "    # Initialise the inverse\n",
    "    inv_mapping = np.zeros(mapping.shape)\n",
    "    # Find the index that we can affect for sure\n",
    "    idx_inv_map = np.unique(mapping)\n",
    "    \n",
    "    # For each index\n",
    "    for idx in idx_inv_map:\n",
    "        # Find the corresponding index value\n",
    "        int_val = np.where(mapping == idx)[0][0]\n",
    "        # Affect this value for the inverse mapping\n",
    "        inv_mapping[idx] = int_val\n",
    "        \n",
    "    # Find the first index which is not zero\n",
    "    first_elt_idx = np.nonzero(inv_mapping)[0][0]\n",
    "    for i, elt in enumerate(inv_mapping[first_elt_idx:-1]):\n",
    "        if (elt == 0):\n",
    "            inv_mapping[i + first_elt_idx] = inv_mapping[i + first_elt_idx - 1]\n",
    "        \n",
    "    return inv_mapping.astype('uint8')\n",
    "\n"
   ]
  },
  {
   "cell_type": "code",
   "execution_count": 23,
   "metadata": {
    "collapsed": true
   },
   "outputs": [],
   "source": [
    "def hist_match(img, pdf_to_fit, min_int, max_int):\n",
    "    # Equalize img\n",
    "    \n",
    "    ## hist_eq is actually the function that you should implement in the previous Question \n",
    "    img_eq, cdf_eq = hist_eq(img, min_int, max_int)\n",
    "   \n",
    "    \n",
    "    # We need to make the matching now\n",
    "    ## Compute the transform G\n",
    "    \n",
    "    ### Compute the cdf\n",
    "    cdf = np.cumsum(pdf_to_fit)\n",
    "    \n",
    "    ### Multiply the cdf by the number of gray values\n",
    "    cdf_real = cdf * float(max_int)\n",
    "    ### Round the cdf\n",
    "    G = np.floor(cdf_real).astype('int')\n",
    "    \n",
    "    ## But we need the inverse\n",
    "    G_1 = find_inverse_mapping(G)\n",
    "    \n",
    "    img_match = np.zeros((img_eq.shape[0], img_eq.shape[1]))\n",
    "    for i in range (np.shape(img_eq)[0]):\n",
    "        for j in range (np.shape(img_eq)[1]):\n",
    "            img_match[i][j] = G_1[int(img_eq[i][j])]\n",
    "    \n",
    "    return img_match  "
   ]
  },
  {
   "cell_type": "markdown",
   "metadata": {},
   "source": [
    "**Creating a manual pdf following a gaussian distribution**"
   ]
  },
  {
   "cell_type": "code",
   "execution_count": 51,
   "metadata": {
    "collapsed": true
   },
   "outputs": [],
   "source": [
    "from scipy.stats import norm\n",
    "\n",
    "x = np.arange(max_img+1)\n",
    "pdf_to_fit = norm.pdf(x, 150, 30)\n"
   ]
  },
  {
   "cell_type": "markdown",
   "metadata": {},
   "source": [
    "**Use the defined function to match the histogram of gray version of satellite image to `pdf_to_fit`**"
   ]
  },
  {
   "cell_type": "code",
   "execution_count": null,
   "metadata": {
    "collapsed": true
   },
   "outputs": [],
   "source": []
  },
  {
   "cell_type": "markdown",
   "metadata": {},
   "source": [
    "### Q.5 \n",
    "\n",
    "** Explain the difference between log transform enhancement and gamma transform **\n"
   ]
  },
  {
   "cell_type": "markdown",
   "metadata": {},
   "source": []
  },
  {
   "cell_type": "markdown",
   "metadata": {},
   "source": [
    "** Explain how sigmoid function enhances the image **"
   ]
  },
  {
   "cell_type": "markdown",
   "metadata": {},
   "source": []
  }
 ],
 "metadata": {
  "kernelspec": {
   "display_name": "Python 3",
   "language": "python",
   "name": "python3"
  },
  "language_info": {
   "codemirror_mode": {
    "name": "ipython",
    "version": 3
   },
   "file_extension": ".py",
   "mimetype": "text/x-python",
   "name": "python",
   "nbconvert_exporter": "python",
   "pygments_lexer": "ipython3",
   "version": "3.6.3"
  }
 },
 "nbformat": 4,
 "nbformat_minor": 1
}
